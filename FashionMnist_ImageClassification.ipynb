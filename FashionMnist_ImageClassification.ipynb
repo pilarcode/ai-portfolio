{
  "cells": [
    {
      "cell_type": "markdown",
      "metadata": {
        "id": "iiDzBoKGwmMZ"
      },
      "source": [
        "# Primera parte: Introducción a las redes neuronales con Keras\n",
        "\n",
        "En esta primera parte, vamos a utilizar una red neuronal para clasificar imágenes de prendas de ropa. Para ello, utilizaremos Keras con TensorFlow.\n",
        "\n",
        "El dataset a utilizar es Fashion MNIST, un problema sencillo con imágenes pequeñas de ropa, pero más interesante que el dataset de MNIST. Puedes consultar más información sobre el dataset en [este enlace](https://github.com/zalandoresearch/fashion-mnist).\n",
        "\n",
        "El código utilizado para contestar tiene que quedar claramente reflejado en el Notebook. Puedes crear nuevas cells si así lo deseas para estructurar tu código y sus salidas. A la hora de entregar el notebook, **asegúrate de que los resultados de ejecutar tu código han quedado guardados** (por ejemplo, a la hora de entrenar una red neuronal tiene que verse claramente un log de los resultados de cada epoch)."
      ]
    },
    {
      "cell_type": "code",
      "execution_count": null,
      "metadata": {
        "id": "gSHr268SwmMa",
        "outputId": "778a1f28-800d-439e-fcac-47d78720fbe8"
      },
      "outputs": [
        {
          "name": "stderr",
          "output_type": "stream",
          "text": [
            "Using TensorFlow backend.\n"
          ]
        }
      ],
      "source": [
        "import keras\n",
        "from keras.datasets import fashion_mnist\n",
        "from keras.models import Sequential\n",
        "from keras.layers import Dense\n",
        "import tensorflow as tf\n",
        "\n",
        "import matplotlib.pyplot as plt"
      ]
    },
    {
      "cell_type": "markdown",
      "metadata": {
        "id": "PhYq8-CvwmMc"
      },
      "source": [
        "Primero, vamos a obtener los datos. Por suerte para nosotros, estos pueden ser descargados directamente desde Keras, por lo que no tendremos que preocuparnos de tratar con ficheros."
      ]
    },
    {
      "cell_type": "code",
      "execution_count": null,
      "metadata": {
        "id": "0mjrFULOwmMd"
      },
      "outputs": [],
      "source": [
        "(x_train, y_train), (x_test, y_test) = fashion_mnist.load_data()"
      ]
    },
    {
      "cell_type": "markdown",
      "metadata": {
        "id": "AOVoeoj0wmMe"
      },
      "source": [
        "Acto seguido, normalizamos esos datos de manera similar a como hemos visto con MNIST, obteniendo valores entre 0 y 1. Este paso es muy importante para el correcto funcionamiento de nuestra red."
      ]
    },
    {
      "cell_type": "code",
      "execution_count": null,
      "metadata": {
        "id": "5EgKN2YWwmMf"
      },
      "outputs": [],
      "source": [
        "x_train = x_train / 255.0\n",
        "x_test = x_test / 255.0"
      ]
    },
    {
      "cell_type": "markdown",
      "metadata": {
        "id": "BaqXlSMBwmMg"
      },
      "source": [
        "## 1. Información sobre el dataset"
      ]
    },
    {
      "cell_type": "markdown",
      "metadata": {
        "id": "e0aer8ZZwmMh"
      },
      "source": [
        "Una vez tenemos los datos cargados en memoria, vamos a obtener información sobre los mismos."
      ]
    },
    {
      "cell_type": "markdown",
      "metadata": {
        "id": "E-im9PnEwmMh"
      },
      "source": [
        "**Pregunta 1.1 *(0.25 puntos)*** ¿Cuántas imágenes hay de *training* y de *test*? ¿Qué tamaño tienen las imágenes?"
      ]
    },
    {
      "cell_type": "code",
      "execution_count": null,
      "metadata": {
        "id": "lvP0Y4SCwmMi",
        "outputId": "b81fa843-0354-4ff5-d3ce-df7f41878463"
      },
      "outputs": [
        {
          "name": "stdout",
          "output_type": "stream",
          "text": [
            "(60000, 28, 28)\n",
            "(10000, 28, 28)\n",
            "(60000,)\n",
            "(10000,)\n",
            "(28, 28)\n"
          ]
        }
      ],
      "source": [
        "#Tenemos 6000 imagenes de 28x28 pixeles cada una en el conjunto de ejemplos de entrenamiento (x_train). \n",
        "print(x_train.shape)\n",
        "#Tenemos 1000 imagenes de 28x28 pixeles cada una en el conjunto de ejemplos de test (x_test)\n",
        "print(x_test.shape)\n",
        "\n",
        "\n",
        "#Tenemos 6000 resultados en el conjunto de etiquetas de entrenamiento (y_tain)\n",
        "print(y_train.shape)\n",
        "#Tenemos 1000 resultados en el conjunto de etiquetas de validacion(y_test)\n",
        "print(y_test.shape)\n",
        "\n",
        "#Cada imagen es de 28 x 28 pixels en escala de grises\n",
        "print(x_test[0].shape)\n"
      ]
    },
    {
      "cell_type": "markdown",
      "metadata": {
        "id": "Xwp5ljFKwmMj"
      },
      "source": [
        "Tenemos 6000 imagenes de 28x28 pixeles cada una en el conjunto de ejemplos de entrenamiento (x_train). \n",
        "Tenemos 1000 imagenes de 28x28 pixeles cada una en el conjunto de ejemplos de test (x_test).\n",
        "Tenemos 6000 resultados en el conjunto de etiquetas de entrenamiento (y_tain).\n",
        "Tenemos 1000 resultados en el conjunto de etiquetas de validacion(y_test)."
      ]
    },
    {
      "cell_type": "markdown",
      "metadata": {
        "id": "F2LsvfHOwmMk"
      },
      "source": [
        "**Pregunta 1.2 *(0.25 puntos)*** Realizar una exploración de las variables que contienen los datos. Describir en qué consiste un example del dataset (qué información se guarda en cada imagen) y describir qué contiene la información en y."
      ]
    },
    {
      "cell_type": "code",
      "execution_count": null,
      "metadata": {
        "id": "3W5rzaGxwmMk",
        "outputId": "bd4bec20-5fb7-4570-bf9b-a287d838fd93"
      },
      "outputs": [
        {
          "name": "stdout",
          "output_type": "stream",
          "text": [
            "[[0.         0.         0.         0.         0.         0.\n",
            "  0.         0.         0.         0.         0.         0.\n",
            "  0.         0.         0.         0.         0.         0.\n",
            "  0.         0.         0.         0.         0.         0.\n",
            "  0.         0.         0.         0.        ]\n",
            " [0.         0.         0.         0.         0.         0.\n",
            "  0.         0.         0.         0.         0.         0.\n",
            "  0.         0.         0.         0.         0.         0.\n",
            "  0.         0.         0.         0.         0.         0.\n",
            "  0.         0.         0.         0.        ]\n",
            " [0.         0.         0.         0.         0.         0.\n",
            "  0.         0.         0.         0.         0.         0.\n",
            "  0.         0.         0.         0.         0.         0.\n",
            "  0.         0.         0.         0.         0.         0.\n",
            "  0.         0.         0.         0.        ]\n",
            " [0.         0.         0.         0.         0.         0.\n",
            "  0.         0.         0.         0.         0.         0.\n",
            "  0.00392157 0.         0.         0.05098039 0.28627451 0.\n",
            "  0.         0.00392157 0.01568627 0.         0.         0.\n",
            "  0.         0.00392157 0.00392157 0.        ]\n",
            " [0.         0.         0.         0.         0.         0.\n",
            "  0.         0.         0.         0.         0.         0.\n",
            "  0.01176471 0.         0.14117647 0.53333333 0.49803922 0.24313725\n",
            "  0.21176471 0.         0.         0.         0.00392157 0.01176471\n",
            "  0.01568627 0.         0.         0.01176471]\n",
            " [0.         0.         0.         0.         0.         0.\n",
            "  0.         0.         0.         0.         0.         0.\n",
            "  0.02352941 0.         0.4        0.8        0.69019608 0.5254902\n",
            "  0.56470588 0.48235294 0.09019608 0.         0.         0.\n",
            "  0.         0.04705882 0.03921569 0.        ]\n",
            " [0.         0.         0.         0.         0.         0.\n",
            "  0.         0.         0.         0.         0.         0.\n",
            "  0.         0.         0.60784314 0.9254902  0.81176471 0.69803922\n",
            "  0.41960784 0.61176471 0.63137255 0.42745098 0.25098039 0.09019608\n",
            "  0.30196078 0.50980392 0.28235294 0.05882353]\n",
            " [0.         0.         0.         0.         0.         0.\n",
            "  0.         0.         0.         0.         0.         0.00392157\n",
            "  0.         0.27058824 0.81176471 0.8745098  0.85490196 0.84705882\n",
            "  0.84705882 0.63921569 0.49803922 0.4745098  0.47843137 0.57254902\n",
            "  0.55294118 0.34509804 0.6745098  0.25882353]\n",
            " [0.         0.         0.         0.         0.         0.\n",
            "  0.         0.         0.         0.00392157 0.00392157 0.00392157\n",
            "  0.         0.78431373 0.90980392 0.90980392 0.91372549 0.89803922\n",
            "  0.8745098  0.8745098  0.84313725 0.83529412 0.64313725 0.49803922\n",
            "  0.48235294 0.76862745 0.89803922 0.        ]\n",
            " [0.         0.         0.         0.         0.         0.\n",
            "  0.         0.         0.         0.         0.         0.\n",
            "  0.         0.71764706 0.88235294 0.84705882 0.8745098  0.89411765\n",
            "  0.92156863 0.89019608 0.87843137 0.87058824 0.87843137 0.86666667\n",
            "  0.8745098  0.96078431 0.67843137 0.        ]\n",
            " [0.         0.         0.         0.         0.         0.\n",
            "  0.         0.         0.         0.         0.         0.\n",
            "  0.         0.75686275 0.89411765 0.85490196 0.83529412 0.77647059\n",
            "  0.70588235 0.83137255 0.82352941 0.82745098 0.83529412 0.8745098\n",
            "  0.8627451  0.95294118 0.79215686 0.        ]\n",
            " [0.         0.         0.         0.         0.         0.\n",
            "  0.         0.         0.         0.00392157 0.01176471 0.\n",
            "  0.04705882 0.85882353 0.8627451  0.83137255 0.85490196 0.75294118\n",
            "  0.6627451  0.89019608 0.81568627 0.85490196 0.87843137 0.83137255\n",
            "  0.88627451 0.77254902 0.81960784 0.20392157]\n",
            " [0.         0.         0.         0.         0.         0.\n",
            "  0.         0.         0.         0.         0.02352941 0.\n",
            "  0.38823529 0.95686275 0.87058824 0.8627451  0.85490196 0.79607843\n",
            "  0.77647059 0.86666667 0.84313725 0.83529412 0.87058824 0.8627451\n",
            "  0.96078431 0.46666667 0.65490196 0.21960784]\n",
            " [0.         0.         0.         0.         0.         0.\n",
            "  0.         0.         0.         0.01568627 0.         0.\n",
            "  0.21568627 0.9254902  0.89411765 0.90196078 0.89411765 0.94117647\n",
            "  0.90980392 0.83529412 0.85490196 0.8745098  0.91764706 0.85098039\n",
            "  0.85098039 0.81960784 0.36078431 0.        ]\n",
            " [0.         0.         0.00392157 0.01568627 0.02352941 0.02745098\n",
            "  0.00784314 0.         0.         0.         0.         0.\n",
            "  0.92941176 0.88627451 0.85098039 0.8745098  0.87058824 0.85882353\n",
            "  0.87058824 0.86666667 0.84705882 0.8745098  0.89803922 0.84313725\n",
            "  0.85490196 1.         0.30196078 0.        ]\n",
            " [0.         0.01176471 0.         0.         0.         0.\n",
            "  0.         0.         0.         0.24313725 0.56862745 0.8\n",
            "  0.89411765 0.81176471 0.83529412 0.86666667 0.85490196 0.81568627\n",
            "  0.82745098 0.85490196 0.87843137 0.8745098  0.85882353 0.84313725\n",
            "  0.87843137 0.95686275 0.62352941 0.        ]\n",
            " [0.         0.         0.         0.         0.07058824 0.17254902\n",
            "  0.32156863 0.41960784 0.74117647 0.89411765 0.8627451  0.87058824\n",
            "  0.85098039 0.88627451 0.78431373 0.80392157 0.82745098 0.90196078\n",
            "  0.87843137 0.91764706 0.69019608 0.7372549  0.98039216 0.97254902\n",
            "  0.91372549 0.93333333 0.84313725 0.        ]\n",
            " [0.         0.22352941 0.73333333 0.81568627 0.87843137 0.86666667\n",
            "  0.87843137 0.81568627 0.8        0.83921569 0.81568627 0.81960784\n",
            "  0.78431373 0.62352941 0.96078431 0.75686275 0.80784314 0.8745098\n",
            "  1.         1.         0.86666667 0.91764706 0.86666667 0.82745098\n",
            "  0.8627451  0.90980392 0.96470588 0.        ]\n",
            " [0.01176471 0.79215686 0.89411765 0.87843137 0.86666667 0.82745098\n",
            "  0.82745098 0.83921569 0.80392157 0.80392157 0.80392157 0.8627451\n",
            "  0.94117647 0.31372549 0.58823529 1.         0.89803922 0.86666667\n",
            "  0.7372549  0.60392157 0.74901961 0.82352941 0.8        0.81960784\n",
            "  0.87058824 0.89411765 0.88235294 0.        ]\n",
            " [0.38431373 0.91372549 0.77647059 0.82352941 0.87058824 0.89803922\n",
            "  0.89803922 0.91764706 0.97647059 0.8627451  0.76078431 0.84313725\n",
            "  0.85098039 0.94509804 0.25490196 0.28627451 0.41568627 0.45882353\n",
            "  0.65882353 0.85882353 0.86666667 0.84313725 0.85098039 0.8745098\n",
            "  0.8745098  0.87843137 0.89803922 0.11372549]\n",
            " [0.29411765 0.8        0.83137255 0.8        0.75686275 0.80392157\n",
            "  0.82745098 0.88235294 0.84705882 0.7254902  0.77254902 0.80784314\n",
            "  0.77647059 0.83529412 0.94117647 0.76470588 0.89019608 0.96078431\n",
            "  0.9372549  0.8745098  0.85490196 0.83137255 0.81960784 0.87058824\n",
            "  0.8627451  0.86666667 0.90196078 0.2627451 ]\n",
            " [0.18823529 0.79607843 0.71764706 0.76078431 0.83529412 0.77254902\n",
            "  0.7254902  0.74509804 0.76078431 0.75294118 0.79215686 0.83921569\n",
            "  0.85882353 0.86666667 0.8627451  0.9254902  0.88235294 0.84705882\n",
            "  0.78039216 0.80784314 0.72941176 0.70980392 0.69411765 0.6745098\n",
            "  0.70980392 0.80392157 0.80784314 0.45098039]\n",
            " [0.         0.47843137 0.85882353 0.75686275 0.70196078 0.67058824\n",
            "  0.71764706 0.76862745 0.8        0.82352941 0.83529412 0.81176471\n",
            "  0.82745098 0.82352941 0.78431373 0.76862745 0.76078431 0.74901961\n",
            "  0.76470588 0.74901961 0.77647059 0.75294118 0.69019608 0.61176471\n",
            "  0.65490196 0.69411765 0.82352941 0.36078431]\n",
            " [0.         0.         0.29019608 0.74117647 0.83137255 0.74901961\n",
            "  0.68627451 0.6745098  0.68627451 0.70980392 0.7254902  0.7372549\n",
            "  0.74117647 0.7372549  0.75686275 0.77647059 0.8        0.81960784\n",
            "  0.82352941 0.82352941 0.82745098 0.7372549  0.7372549  0.76078431\n",
            "  0.75294118 0.84705882 0.66666667 0.        ]\n",
            " [0.00784314 0.         0.         0.         0.25882353 0.78431373\n",
            "  0.87058824 0.92941176 0.9372549  0.94901961 0.96470588 0.95294118\n",
            "  0.95686275 0.86666667 0.8627451  0.75686275 0.74901961 0.70196078\n",
            "  0.71372549 0.71372549 0.70980392 0.69019608 0.65098039 0.65882353\n",
            "  0.38823529 0.22745098 0.         0.        ]\n",
            " [0.         0.         0.         0.         0.         0.\n",
            "  0.         0.15686275 0.23921569 0.17254902 0.28235294 0.16078431\n",
            "  0.1372549  0.         0.         0.         0.         0.\n",
            "  0.         0.         0.         0.         0.         0.\n",
            "  0.         0.         0.         0.        ]\n",
            " [0.         0.         0.         0.         0.         0.\n",
            "  0.         0.         0.         0.         0.         0.\n",
            "  0.         0.         0.         0.         0.         0.\n",
            "  0.         0.         0.         0.         0.         0.\n",
            "  0.         0.         0.         0.        ]\n",
            " [0.         0.         0.         0.         0.         0.\n",
            "  0.         0.         0.         0.         0.         0.\n",
            "  0.         0.         0.         0.         0.         0.\n",
            "  0.         0.         0.         0.         0.         0.\n",
            "  0.         0.         0.         0.        ]]\n"
          ]
        }
      ],
      "source": [
        "#Cada imagen es de 28 x 28 pixels viene representada por una matriz de 28x 28. Cada pixel toma una posicion de la matriz\n",
        "#Cada pixel toma valores entre 0 y 1. Blanco y negro. Toma valores en la escala de grises.\n",
        "print(x_train[0])\n"
      ]
    },
    {
      "cell_type": "code",
      "execution_count": null,
      "metadata": {
        "id": "sw4DX_p9LNFC",
        "outputId": "b9131703-e051-49d4-ddc3-c4b0a4a02f49"
      },
      "outputs": [
        {
          "name": "stdout",
          "output_type": "stream",
          "text": [
            "9\n"
          ]
        }
      ],
      "source": [
        "#La salida se corresponde  con una de las 10 clases posibles del clasificador\n",
        "# 0 T-shirt/top 1 Trouser 2 Pullover 3 Dress 4 Coat 5 Sandal 6 Shirt 7 Sneaker 8 Bag 9 Ankle boot\n",
        "print(y_train[0])"
      ]
    },
    {
      "cell_type": "markdown",
      "metadata": {
        "id": "zaEWKFyvwmMm"
      },
      "source": [
        "Viendo la información del dataset vemos cada imagen es de 28x 28 y toma valores en la escala de grises. Por otro lado, en el conjunto de etiquetas asociadas a la imagen para realizar este aprendizaje supervisado, disponemos de 10 clases posibles que vienen representadas por un numero del 0 al 9. Se trata de un problema de clasificación. La salida puede tomar una de estas 10 clases( 0 T-shirt/top 1 Trouser 2 Pullover 3 Dress 4 Coat 5 Sandal 6 Shirt 7 Sneaker 8 Bag 9 Ankle boot)"
      ]
    },
    {
      "cell_type": "markdown",
      "metadata": {
        "id": "HPNa3nH0wmMn"
      },
      "source": [
        "Vamos a **visualizar** una imagen de ejemplo. Prueba tu mismo a cambiar la imagen en uso para explorar el dataset visualmente ejecutando el siguiente código:"
      ]
    },
    {
      "cell_type": "code",
      "execution_count": null,
      "metadata": {
        "id": "WlQx9uk3wmMn"
      },
      "outputs": [],
      "source": [
        "def visualize_example(x):\n",
        "    plt.figure()\n",
        "    plt.imshow(x)\n",
        "    plt.colorbar()\n",
        "    plt.grid(False)\n",
        "    plt.show()"
      ]
    },
    {
      "cell_type": "code",
      "execution_count": null,
      "metadata": {
        "id": "YTHt4fd2wmMp",
        "outputId": "491b032b-a674-4185-b04a-bf2156bacb7e"
      },
      "outputs": [
        {
          "data": {
            "image/png": "[encoded data removed]",
            "text/plain": [
              "<Figure size 432x288 with 2 Axes>"
            ]
          },
          "metadata": {
            "needs_background": "light"
          },
          "output_type": "display_data"
        },
        {
          "name": "stdout",
          "output_type": "stream",
          "text": [
            "2\n"
          ]
        }
      ],
      "source": [
        "visualize_example(x_train[5])\n",
        "\n",
        "#Es una clase 2 -Pullover \n",
        "print(y_train[5]) "
      ]
    },
    {
      "cell_type": "code",
      "execution_count": null,
      "metadata": {
        "id": "eZLhRLpeLNFD",
        "outputId": "34e63720-40eb-40e1-8883-5d11d666e97c"
      },
      "outputs": [
        {
          "data": {
            "image/png": "[encoded data removed]",
            "text/plain": [
              "<Figure size 432x288 with 2 Axes>"
            ]
          },
          "metadata": {
            "needs_background": "light"
          },
          "output_type": "display_data"
        },
        {
          "name": "stdout",
          "output_type": "stream",
          "text": [
            "0\n"
          ]
        }
      ],
      "source": [
        "visualize_example(x_train[1])\n",
        "# Es una clase 0 T-shirt/to\n",
        "print(y_train[1])"
      ]
    },
    {
      "cell_type": "code",
      "execution_count": null,
      "metadata": {
        "id": "IYuaPAVdLNFD",
        "outputId": "dfd31df1-c4ec-4b9f-edae-5428208316dd"
      },
      "outputs": [
        {
          "data": {
            "image/png": "[encoded data removed]",
            "text/plain": [
              "<Figure size 432x288 with 2 Axes>"
            ]
          },
          "metadata": {
            "needs_background": "light"
          },
          "output_type": "display_data"
        },
        {
          "name": "stdout",
          "output_type": "stream",
          "text": [
            "0\n"
          ]
        }
      ],
      "source": [
        "visualize_example(x_train[2])\n",
        "# Es una 0 T-shirt/to\n",
        "print(y_train[2])"
      ]
    },
    {
      "cell_type": "code",
      "execution_count": null,
      "metadata": {
        "id": "pdAtQ7NRLNFD",
        "outputId": "e64c72ed-6598-4095-c94a-3a03ee85de10"
      },
      "outputs": [
        {
          "data": {
            "image/png": "[encoded data removed]",
            "text/plain": [
              "<Figure size 432x288 with 2 Axes>"
            ]
          },
          "metadata": {
            "needs_background": "light"
          },
          "output_type": "display_data"
        },
        {
          "name": "stdout",
          "output_type": "stream",
          "text": [
            "0\n"
          ]
        }
      ],
      "source": [
        "visualize_example(x_train[4])\n",
        "# Es una 0 T-shirt/to\n",
        "print(y_train[4])\n"
      ]
    },
    {
      "cell_type": "code",
      "execution_count": null,
      "metadata": {
        "id": "PRpmj_qmLNFD",
        "outputId": "71cab041-fcbd-4b1f-bfa5-70ec5cfe604a"
      },
      "outputs": [
        {
          "data": {
            "image/png": "[encoded data removed]",
            "text/plain": [
              "<Figure size 432x288 with 2 Axes>"
            ]
          },
          "metadata": {
            "needs_background": "light"
          },
          "output_type": "display_data"
        },
        {
          "name": "stdout",
          "output_type": "stream",
          "text": [
            "3\n"
          ]
        }
      ],
      "source": [
        "visualize_example(x_train[3])\n",
        "# Es una 3 Dress\n",
        "print(y_train[3])"
      ]
    },
    {
      "cell_type": "markdown",
      "metadata": {
        "id": "fYo2bcUpLNFE"
      },
      "source": [
        "Vemos una serie de ejemplos de imagenes del conjunto de entramiento que tienen la etiqueta 0 correspondiente a la clase Tshit. A priori resulta díficil imaginarse un patrón, a simple vista,con las posibles representaciones intermedias  que aprenderá la red para diferenciaras de otras clases como dress por ejemplo.\n"
      ]
    },
    {
      "cell_type": "markdown",
      "metadata": {
        "id": "USVefNOIwmMt"
      },
      "source": [
        "## 2. Entrenamiento de una red neuronal simple"
      ]
    },
    {
      "cell_type": "markdown",
      "metadata": {
        "id": "sSWjUeOdwmMt"
      },
      "source": [
        "**Pregunta 2 *(3.5 puntos)***. Utilizando Keras, y preparando los datos de X e y como fuera necesario, define y entrena una red neuronal que sea capaz de clasificar imágenes de Fashion MNIST con las siguientes características:\n",
        "\n",
        "* Dos hidden layers de tamaños 128 y 64, utilizando unidades **sigmoid**\n",
        "* Optimizador **sgd**.\n",
        "* Durante el entrenamiento, la red tiene que mostrar resultados de **loss** y **accuracy** por cada epoch.\n",
        "* La red debe entrenar durante **20 epochs** y batch size de **64**.\n",
        "* La última capa debe de ser una capa **softmax**.\n",
        "\n",
        "Tu red tendría que ser capaz de superar fácilmente 60% de accuracy."
      ]
    },
    {
      "cell_type": "code",
      "execution_count": null,
      "metadata": {
        "id": "cCh7qRMTwmMt"
      },
      "outputs": [],
      "source": [
        "### Preparamos los datos para la red ###\n",
        "num_classes = 10\n",
        "batch_size = 64\n",
        "epochs = 20\n",
        "\n",
        "#Convertimos los datos de entrada (matriz de 28 x28) en un vector de una dimesión 784 que contega todos los pixeles \n",
        "x_train = x_train.reshape(60000,784)\n",
        "x_test = x_test.reshape(10000,784)\n",
        "\n",
        "#Nos aseguramos que son datos de tipo float\n",
        "x_train = x_train.astype('float32')\n",
        "x_test = x_test.astype('float32')\n",
        "\n",
        "#Convertimos las clases de salida en vectores de una dimesión con la clase equivalente activada\n",
        "y_train = keras.utils.to_categorical(y_train,num_classes)\n",
        "y_test = keras.utils.to_categorical(y_test,num_classes)\n"
      ]
    },
    {
      "cell_type": "code",
      "execution_count": null,
      "metadata": {
        "id": "nsuD6etfLNFE",
        "outputId": "8c5028b8-3af0-495f-ff35-2bf30b9ee807"
      },
      "outputs": [
        {
          "name": "stdout",
          "output_type": "stream",
          "text": [
            "(60000, 784)\n",
            "(10000, 784)\n",
            "(60000, 10)\n",
            "(10000, 10)\n"
          ]
        }
      ],
      "source": [
        "print(x_train.shape)\n",
        "print(x_test.shape)\n",
        "print(y_train.shape)\n",
        "print(y_test.shape)"
      ]
    },
    {
      "cell_type": "code",
      "execution_count": null,
      "metadata": {
        "id": "9SsrDPb3LNFE",
        "outputId": "d72b702b-a83d-499e-de17-1f28ab06c6c8"
      },
      "outputs": [
        {
          "name": "stdout",
          "output_type": "stream",
          "text": [
            "Model: \"sequential_1\"\n",
            "_________________________________________________________________\n",
            "Layer (type)                 Output Shape              Param #   \n",
            "=================================================================\n",
            "hidden_layer1 (Dense)        (None, 128)               100480    \n",
            "_________________________________________________________________\n",
            "hidden_layer2 (Dense)        (None, 64)                8256      \n",
            "_________________________________________________________________\n",
            "dense_1 (Dense)              (None, 10)                650       \n",
            "=================================================================\n",
            "Total params: 109,386\n",
            "Trainable params: 109,386\n",
            "Non-trainable params: 0\n",
            "_________________________________________________________________\n"
          ]
        }
      ],
      "source": [
        "### Definimos la arquitectura de la red según el enunciado ###\n",
        "model = Sequential()\n",
        "model.add(Dense(128, activation='sigmoid', name=\"hidden_layer1\", input_shape=(784,)))\n",
        "model.add(Dense(64, activation='sigmoid',  name=\"hidden_layer2\"))\n",
        "model.add(Dense(num_classes, activation='softmax'))\n",
        "model.summary()"
      ]
    },
    {
      "cell_type": "code",
      "execution_count": null,
      "metadata": {
        "id": "B2vP1oJ7LNFE"
      },
      "outputs": [],
      "source": [
        "#Añadimos al modelo la funcion de perdida, el optimizador y las metricas que queremos ver en cada batch\n",
        "opt = tf.keras.optimizers.SGD(learning_rate=0.1)\n",
        "model.compile(loss='categorical_crossentropy', \n",
        "              optimizer=opt,\n",
        "              metrics=['accuracy'])"
      ]
    },
    {
      "cell_type": "code",
      "execution_count": null,
      "metadata": {
        "id": "QUoPi556LNFE",
        "outputId": "cc2c66d0-f5e9-4b88-b67f-143c8b8f87a1"
      },
      "outputs": [
        {
          "name": "stdout",
          "output_type": "stream",
          "text": [
            "Train on 60000 samples, validate on 10000 samples\n",
            "Epoch 1/20\n",
            "60000/60000 [==============================] - 1s 25us/step - loss: 1.1833 - accuracy: 0.6217 - val_loss: 0.7274 - val_accuracy: 0.7347\n",
            "Epoch 2/20\n",
            "60000/60000 [==============================] - 1s 22us/step - loss: 0.6270 - accuracy: 0.7711 - val_loss: 0.5947 - val_accuracy: 0.7817\n",
            "Epoch 3/20\n",
            "60000/60000 [==============================] - 1s 20us/step - loss: 0.5344 - accuracy: 0.8076 - val_loss: 0.5345 - val_accuracy: 0.8080\n",
            "Epoch 4/20\n",
            "60000/60000 [==============================] - 1s 19us/step - loss: 0.4854 - accuracy: 0.8274 - val_loss: 0.4982 - val_accuracy: 0.8240\n",
            "Epoch 5/20\n",
            "60000/60000 [==============================] - 1s 18us/step - loss: 0.4564 - accuracy: 0.8373 - val_loss: 0.4754 - val_accuracy: 0.8296\n",
            "Epoch 6/20\n",
            "60000/60000 [==============================] - 1s 19us/step - loss: 0.4370 - accuracy: 0.8433 - val_loss: 0.4646 - val_accuracy: 0.8342\n",
            "Epoch 7/20\n",
            "60000/60000 [==============================] - 1s 18us/step - loss: 0.4210 - accuracy: 0.8491 - val_loss: 0.4541 - val_accuracy: 0.8393\n",
            "Epoch 8/20\n",
            "60000/60000 [==============================] - 1s 19us/step - loss: 0.4079 - accuracy: 0.8534 - val_loss: 0.4403 - val_accuracy: 0.8398\n",
            "Epoch 9/20\n",
            "60000/60000 [==============================] - 1s 18us/step - loss: 0.3978 - accuracy: 0.8581 - val_loss: 0.4272 - val_accuracy: 0.8469\n",
            "Epoch 10/20\n",
            "60000/60000 [==============================] - 1s 19us/step - loss: 0.3884 - accuracy: 0.8597 - val_loss: 0.4431 - val_accuracy: 0.8436\n",
            "Epoch 11/20\n",
            "60000/60000 [==============================] - 1s 20us/step - loss: 0.3799 - accuracy: 0.8632 - val_loss: 0.4159 - val_accuracy: 0.8542\n",
            "Epoch 12/20\n",
            "60000/60000 [==============================] - 1s 18us/step - loss: 0.3738 - accuracy: 0.8654 - val_loss: 0.4127 - val_accuracy: 0.8537\n",
            "Epoch 13/20\n",
            "60000/60000 [==============================] - 1s 18us/step - loss: 0.3666 - accuracy: 0.8684 - val_loss: 0.4038 - val_accuracy: 0.8556\n",
            "Epoch 14/20\n",
            "60000/60000 [==============================] - 1s 18us/step - loss: 0.3600 - accuracy: 0.8706 - val_loss: 0.4285 - val_accuracy: 0.8414\n",
            "Epoch 15/20\n",
            "60000/60000 [==============================] - 1s 19us/step - loss: 0.3545 - accuracy: 0.8725 - val_loss: 0.3973 - val_accuracy: 0.8559\n",
            "Epoch 16/20\n",
            "60000/60000 [==============================] - 1s 18us/step - loss: 0.3490 - accuracy: 0.8748 - val_loss: 0.3978 - val_accuracy: 0.8593\n",
            "Epoch 17/20\n",
            "60000/60000 [==============================] - 1s 18us/step - loss: 0.3448 - accuracy: 0.8763 - val_loss: 0.3893 - val_accuracy: 0.8623\n",
            "Epoch 18/20\n",
            "60000/60000 [==============================] - 1s 18us/step - loss: 0.3393 - accuracy: 0.8770 - val_loss: 0.3880 - val_accuracy: 0.8613\n",
            "Epoch 19/20\n",
            "60000/60000 [==============================] - 1s 18us/step - loss: 0.3356 - accuracy: 0.8784 - val_loss: 0.3927 - val_accuracy: 0.8596\n",
            "Epoch 20/20\n",
            "60000/60000 [==============================] - 1s 18us/step - loss: 0.3297 - accuracy: 0.8814 - val_loss: 0.3929 - val_accuracy: 0.8587\n"
          ]
        }
      ],
      "source": [
        "#Entrenamos la rede\n",
        "history = model.fit(x_train, y_train,\n",
        "                    batch_size= batch_size,\n",
        "                    epochs=epochs,\n",
        "                    verbose=1,\n",
        "                    validation_data=(x_test,y_test))"
      ]
    },
    {
      "cell_type": "markdown",
      "metadata": {
        "id": "CZux6TmvwmMv"
      },
      "source": [
        "## 3. Evaluación del modelo en datos de test"
      ]
    },
    {
      "cell_type": "markdown",
      "metadata": {
        "id": "0SzHBkzrwmMw"
      },
      "source": [
        "Una vez hemos entrenado nuestro modelo, vamos a evaluarlo en los datos de test de Fashion MNIST.\n",
        "\n",
        "**Pregunta 3.1 *(0.5 puntos)***. Utilizando el modelo recién entrenado, obtener la accuracy resultante en el dataset de test."
      ]
    },
    {
      "cell_type": "code",
      "execution_count": null,
      "metadata": {
        "id": "9CSLZkW1wmMw",
        "outputId": "732160a5-6ef0-47f9-c1b4-100295e2a0f6"
      },
      "outputs": [
        {
          "name": "stdout",
          "output_type": "stream",
          "text": [
            "Test loss: 0.3929219949960709\n",
            "Test accuracy: 0.8586999773979187\n"
          ]
        }
      ],
      "source": [
        "score  = model.evaluate(x_test, y_test, verbose=0)\n",
        "print('Test loss:',score[0])\n",
        "print('Test accuracy:',score[1])"
      ]
    },
    {
      "cell_type": "markdown",
      "metadata": {
        "id": "ud0JCcZpwmMx"
      },
      "source": [
        "**Pregunta 3.2 *(0.5 puntos)***. Utilizando el método **predict** de Keras, realizar predicciones para los datos de test. Por cada predicción resultante, ¿qué significan los números que obtenemos al hacer predict? ¿Cómo podemos obtener el valor de la clase resultante? (recordar que estamos utilizando una capa softmax para clasificar)."
      ]
    },
    {
      "cell_type": "code",
      "execution_count": null,
      "metadata": {
        "id": "0wrXVJJ9wmMy"
      },
      "outputs": [],
      "source": [
        "preds = model.predict(x_test)"
      ]
    },
    {
      "cell_type": "code",
      "execution_count": null,
      "metadata": {
        "id": "aN4Q5y1sLNFF",
        "outputId": "76b47169-d64c-4379-ecb0-68ef93b718b6"
      },
      "outputs": [
        {
          "name": "stdout",
          "output_type": "stream",
          "text": [
            "<class 'numpy.ndarray'>\n",
            "[1.3133148e-05 3.9423835e-06 5.0586779e-05 1.7271885e-04 2.2436361e-05\n",
            " 4.2039625e-02 1.5798474e-04 4.1852571e-02 2.7868100e-03 9.1290021e-01]\n",
            "[0. 0. 0. 0. 0. 0. 0. 0. 0. 1.]\n"
          ]
        }
      ],
      "source": [
        "print(type(preds))\n",
        "print(preds[0])\n",
        "print(y_test[0])\n"
      ]
    },
    {
      "cell_type": "markdown",
      "metadata": {
        "id": "fZynBpMBwmM2"
      },
      "source": [
        "Si utilizamos la función predict con el conjunto de datos de test nos devuelve un array que contiene a su vez un array de 10 posiciones  por cada elemento. Representa las propababilidades calculadas por la red sobre cada posible clase. Si observamos la imagen del conjunto de test de prueba, la clase verdadera es la 9 y se corresponde con la posición que la red ha calculado que tienen más probabilidad de pertenencia a ser la clase 9."
      ]
    },
    {
      "cell_type": "code",
      "execution_count": null,
      "metadata": {
        "id": "ryKNL8zOLNFF",
        "outputId": "1e209496-1502-4421-9f3a-83c418145dee"
      },
      "outputs": [
        {
          "name": "stdout",
          "output_type": "stream",
          "text": [
            "dict_keys(['val_loss', 'val_accuracy', 'loss', 'accuracy'])\n"
          ]
        }
      ],
      "source": [
        "#Para monitorizar la funcion de coste dibujaremos una grafica a partir de los datos obtenidos del entrenamiento.\n",
        "print(history.history.keys())"
      ]
    },
    {
      "cell_type": "code",
      "execution_count": null,
      "metadata": {
        "id": "sTI4War1LNFF",
        "outputId": "b94c4944-5c87-44a0-9ab5-822c61fcee63"
      },
      "outputs": [
        {
          "data": {
            "image/png": "[encoded data removed]",
            "text/plain": [
              "<Figure size 432x288 with 1 Axes>"
            ]
          },
          "metadata": {
            "needs_background": "light"
          },
          "output_type": "display_data"
        },
        {
          "data": {
            "image/png": "[encoded data removed]",
            "text/plain": [
              "<Figure size 432x288 with 1 Axes>"
            ]
          },
          "metadata": {
            "needs_background": "light"
          },
          "output_type": "display_data"
        }
      ],
      "source": [
        "# Grafica para comparar la metrica  accuracy\n",
        "plt.plot(history.history['accuracy'])\n",
        "plt.plot(history.history['val_accuracy'])\n",
        "plt.title('model accuracy')\n",
        "plt.ylabel('accuracy')\n",
        "plt.xlabel('epoch')\n",
        "plt.legend(['train', 'test'], loc='upper left')\n",
        "plt.show()\n",
        "#  Grafica para comparar la funcion de pérdida\n",
        "plt.plot(history.history['loss'])\n",
        "plt.plot(history.history['val_loss'])\n",
        "plt.title('model loss')\n",
        "plt.ylabel('loss')\n",
        "plt.xlabel('epoch')\n",
        "plt.legend(['train', 'test'], loc='upper left')\n",
        "plt.show()"
      ]
    },
    {
      "cell_type": "markdown",
      "metadata": {
        "id": "D0nbb842LNFF"
      },
      "source": [
        "La train loss y la test loss convergen hacia el mismo sitio. No parece haber overfitting. Y el learning rate elegido parece correcto también."
      ]
    },
    {
      "cell_type": "code",
      "execution_count": null,
      "metadata": {
        "id": "JA-WiErMLNFF"
      },
      "outputs": [],
      "source": []
    }
  ],
  "metadata": {
    "colab": {
      "provenance": []
    },
    "kernelspec": {
      "display_name": "Python 3",
      "language": "python",
      "name": "python3"
    },
    "language_info": {
      "codemirror_mode": {
        "name": "ipython",
        "version": 3
      },
      "file_extension": ".py",
      "mimetype": "text/x-python",
      "name": "python",
      "nbconvert_exporter": "python",
      "pygments_lexer": "ipython3",
      "version": "3.7.7"
    }
  },
  "nbformat": 4,
  "nbformat_minor": 0
}